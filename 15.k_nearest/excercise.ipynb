{
 "cells": [
  {
   "cell_type": "code",
   "execution_count": 8,
   "metadata": {},
   "outputs": [],
   "source": [
    "import pandas as pd\n",
    "from sklearn.datasets import load_digits\n",
    "digits = load_digits()"
   ]
  },
  {
   "cell_type": "code",
   "execution_count": 9,
   "metadata": {},
   "outputs": [],
   "source": [
    "from sklearn.model_selection import train_test_split\n",
    "x_train,x_test,y_train,y_test = train_test_split(digits.data,digits.target,test_size=0.3,random_state=10)"
   ]
  },
  {
   "cell_type": "code",
   "execution_count": 10,
   "metadata": {},
   "outputs": [],
   "source": [
    "from sklearn.neighbors import KNeighborsClassifier\n",
    "knn = KNeighborsClassifier(n_neighbors=6).fit(x_train,y_train)"
   ]
  },
  {
   "cell_type": "code",
   "execution_count": 11,
   "metadata": {},
   "outputs": [
    {
     "data": {
      "text/plain": [
       "0.9851851851851852"
      ]
     },
     "execution_count": 11,
     "metadata": {},
     "output_type": "execute_result"
    }
   ],
   "source": [
    "knn.score(x_test,y_test)"
   ]
  },
  {
   "cell_type": "code",
   "execution_count": 12,
   "metadata": {},
   "outputs": [],
   "source": [
    "y_predicted = knn.predict(x_test)"
   ]
  },
  {
   "cell_type": "code",
   "execution_count": 13,
   "metadata": {},
   "outputs": [
    {
     "data": {
      "text/plain": [
       "array([[51,  0,  0,  0,  0,  0,  0,  0,  0,  0],\n",
       "       [ 0, 57,  0,  0,  0,  0,  0,  0,  0,  0],\n",
       "       [ 0,  0, 55,  0,  0,  0,  0,  0,  0,  0],\n",
       "       [ 0,  0,  1, 55,  0,  0,  0,  0,  0,  0],\n",
       "       [ 0,  0,  0,  0, 50,  0,  0,  0,  1,  0],\n",
       "       [ 0,  0,  0,  0,  0, 51,  0,  0,  0,  0],\n",
       "       [ 0,  0,  0,  0,  0,  0, 55,  0,  0,  0],\n",
       "       [ 0,  0,  0,  0,  0,  0,  0, 60,  0,  0],\n",
       "       [ 0,  2,  1,  1,  0,  0,  0,  0, 46,  0],\n",
       "       [ 0,  0,  0,  0,  0,  1,  0,  1,  0, 52]], dtype=int64)"
      ]
     },
     "execution_count": 13,
     "metadata": {},
     "output_type": "execute_result"
    }
   ],
   "source": [
    "from sklearn.metrics import confusion_matrix\n",
    "cm = confusion_matrix(y_test,y_predicted)\n",
    "cm"
   ]
  },
  {
   "cell_type": "code",
   "execution_count": 14,
   "metadata": {},
   "outputs": [
    {
     "data": {
      "text/plain": [
       "<AxesSubplot:>"
      ]
     },
     "execution_count": 14,
     "metadata": {},
     "output_type": "execute_result"
    },
    {
     "data": {
      "image/png": "[encoded data removed]",
      "text/plain": [
       "<Figure size 720x504 with 2 Axes>"
      ]
     },
     "metadata": {
      "needs_background": "light"
     },
     "output_type": "display_data"
    }
   ],
   "source": [
    "import seaborn as sn\n",
    "import matplotlib.pyplot as plt\n",
    "plt.figure(figsize = (10,7))\n",
    "sn.heatmap(cm,annot=True)"
   ]
  },
  {
   "cell_type": "code",
   "execution_count": 15,
   "metadata": {},
   "outputs": [
    {
     "name": "stdout",
     "output_type": "stream",
     "text": [
      "              precision    recall  f1-score   support\n",
      "\n",
      "           0       1.00      1.00      1.00        51\n",
      "           1       0.97      1.00      0.98        57\n",
      "           2       0.96      1.00      0.98        55\n",
      "           3       0.98      0.98      0.98        56\n",
      "           4       1.00      0.98      0.99        51\n",
      "           5       0.98      1.00      0.99        51\n",
      "           6       1.00      1.00      1.00        55\n",
      "           7       0.98      1.00      0.99        60\n",
      "           8       0.98      0.92      0.95        50\n",
      "           9       1.00      0.96      0.98        54\n",
      "\n",
      "    accuracy                           0.99       540\n",
      "   macro avg       0.99      0.98      0.98       540\n",
      "weighted avg       0.99      0.99      0.99       540\n",
      "\n"
     ]
    }
   ],
   "source": [
    "from sklearn.metrics import classification_report\n",
    "print(classification_report(y_test,y_predicted))"
   ]
  }
 ],
 "metadata": {
  "interpreter": {
   "hash": "17cfeca820c8042f9be97a993a0edda6171e3484eefbce7fbf6b244297e5761f"
  },
  "kernelspec": {
   "display_name": "Python 3.10.4 64-bit",
   "language": "python",
   "name": "python3"
  },
  "language_info": {
   "codemirror_mode": {
    "name": "ipython",
    "version": 3
   },
   "file_extension": ".py",
   "mimetype": "text/x-python",
   "name": "python",
   "nbconvert_exporter": "python",
   "pygments_lexer": "ipython3",
   "version": "3.10.4"
  },
  "orig_nbformat": 4
 },
 "nbformat": 4,
 "nbformat_minor": 2
}
