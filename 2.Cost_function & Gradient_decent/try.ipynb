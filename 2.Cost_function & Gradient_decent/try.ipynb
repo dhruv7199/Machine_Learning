{
 "cells": [
  {
   "cell_type": "code",
   "execution_count": 35,
   "metadata": {},
   "outputs": [],
   "source": [
    "import numpy as np\n",
    "import matplotlib.pyplot as plt"
   ]
  },
  {
   "cell_type": "code",
   "execution_count": 36,
   "metadata": {},
   "outputs": [],
   "source": [
    "def gradient_decent(x,y):\n",
    "    m_current = b_current = 0\n",
    "    learning_rate = 0.005\n",
    "    iteration = 10\n",
    "    n = x_len = len(x)\n",
    "    y_len = len(y)\n",
    "    plt.scatter(x,y,color='red')\n",
    "    for i in range (iteration):\n",
    "        y_predicted = m_current * x + b_current\n",
    "        plt.plot(x,y_predicted,color='green')\n",
    "        cost = (1/n)*sum([values **2 for values in(y-y_predicted)])\n",
    "        mderivative = -(2/x_len) * sum(x*(y-y_predicted))\n",
    "        bderivative = -(2/y_len) * sum((y-y_predicted))\n",
    "        m_current = m_current -learning_rate *mderivative\n",
    "        b_current = b_current -learning_rate *bderivative\n",
    "        print(f\"cost: {cost}, iteration: {i}, mcurrent: {m_current}, bcurrent {b_current}\")\n",
    "        "
   ]
  },
  {
   "cell_type": "code",
   "execution_count": 37,
   "metadata": {},
   "outputs": [],
   "source": [
    "x = np.array([45,65,21,30,48])\n",
    "y = np.array([889,441,220,663,774])"
   ]
  },
  {
   "cell_type": "code",
   "execution_count": 38,
   "metadata": {},
   "outputs": [
    {
     "name": "stdout",
     "output_type": "stream",
     "text": [
      "cost: 414369.4, iteration: 0, mcurrent: 260.66400000000004, bcurrent 5.974\n",
      "cost: 121412887.31058966, iteration: 1, mcurrent: -4639.709692000001, bcurrent -97.06929200000003\n",
      "cost: 42881819063.99594, iteration: 2, mcurrent: 87481.38407673602, bcurrent 1849.2740521760006\n",
      "cost: 15154237813057.445, iteration: 3, mcurrent: -1644287.5393556799, bcurrent -34730.46323242142\n",
      "cost: 5355446815994736.0, iteration: 4, mcurrent: 30910940.862124383, bcurrent 652935.0068505772\n",
      "cost: 1.8925934175074644e+18, iteration: 5, mcurrent: -581089244.9681807, bcurrent -12274361.649585921\n",
      "cost: 6.688349202426685e+20, iteration: 6, mcurrent: 10923797856.785645, bcurrent 230743692.33760947\n",
      "cost: 2.3636357729975527e+23, iteration: 7, mcurrent: -205354612331.7354, bcurrent -4337711242.748166\n",
      "cost: 8.352993987465144e+25, iteration: 8, mcurrent: 3860426329273.441, bcurrent 81543893830.31871\n",
      "cost: 2.9519145611061563e+28, iteration: 9, mcurrent: -72571496074408.36, bcurrent -1532929750738.3088\n"
     ]
    },
    {
     "data": {
      "image/png": "[encoded data removed]",
      "text/plain": [
       "<Figure size 432x288 with 1 Axes>"
      ]
     },
     "metadata": {
      "needs_background": "light"
     },
     "output_type": "display_data"
    }
   ],
   "source": [
    "gradient_decent(x,y)"
   ]
  },
  {
   "cell_type": "code",
   "execution_count": null,
   "metadata": {},
   "outputs": [],
   "source": []
  }
 ],
 "metadata": {
  "interpreter": {
   "hash": "17cfeca820c8042f9be97a993a0edda6171e3484eefbce7fbf6b244297e5761f"
  },
  "kernelspec": {
   "display_name": "Python 3.10.4 64-bit",
   "language": "python",
   "name": "python3"
  },
  "language_info": {
   "codemirror_mode": {
    "name": "ipython",
    "version": 3
   },
   "file_extension": ".py",
   "mimetype": "text/x-python",
   "name": "python",
   "nbconvert_exporter": "python",
   "pygments_lexer": "ipython3",
   "version": "3.10.4"
  },
  "orig_nbformat": 4
 },
 "nbformat": 4,
 "nbformat_minor": 2
}
