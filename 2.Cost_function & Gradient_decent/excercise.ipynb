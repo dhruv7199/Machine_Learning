{
 "cells": [
  {
   "cell_type": "code",
   "execution_count": 1,
   "metadata": {},
   "outputs": [],
   "source": [
    "import pandas as pd\n",
    "import numpy as np\n",
    "import matplotlib.pyplot as plt"
   ]
  },
  {
   "cell_type": "code",
   "execution_count": 3,
   "metadata": {},
   "outputs": [
    {
     "data": {
      "text/html": [
       "<div>\n",
       "<style scoped>\n",
       "    .dataframe tbody tr th:only-of-type {\n",
       "        vertical-align: middle;\n",
       "    }\n",
       "\n",
       "    .dataframe tbody tr th {\n",
       "        vertical-align: top;\n",
       "    }\n",
       "\n",
       "    .dataframe thead th {\n",
       "        text-align: right;\n",
       "    }\n",
       "</style>\n",
       "<table border=\"1\" class=\"dataframe\">\n",
       "  <thead>\n",
       "    <tr style=\"text-align: right;\">\n",
       "      <th></th>\n",
       "      <th>name</th>\n",
       "      <th>maths</th>\n",
       "      <th>cs</th>\n",
       "    </tr>\n",
       "  </thead>\n",
       "  <tbody>\n",
       "    <tr>\n",
       "      <th>0</th>\n",
       "      <td>david</td>\n",
       "      <td>92</td>\n",
       "      <td>98</td>\n",
       "    </tr>\n",
       "    <tr>\n",
       "      <th>1</th>\n",
       "      <td>laura</td>\n",
       "      <td>56</td>\n",
       "      <td>68</td>\n",
       "    </tr>\n",
       "    <tr>\n",
       "      <th>2</th>\n",
       "      <td>sanjay</td>\n",
       "      <td>88</td>\n",
       "      <td>81</td>\n",
       "    </tr>\n",
       "    <tr>\n",
       "      <th>3</th>\n",
       "      <td>wei</td>\n",
       "      <td>70</td>\n",
       "      <td>80</td>\n",
       "    </tr>\n",
       "    <tr>\n",
       "      <th>4</th>\n",
       "      <td>jeff</td>\n",
       "      <td>80</td>\n",
       "      <td>83</td>\n",
       "    </tr>\n",
       "    <tr>\n",
       "      <th>5</th>\n",
       "      <td>aamir</td>\n",
       "      <td>49</td>\n",
       "      <td>52</td>\n",
       "    </tr>\n",
       "    <tr>\n",
       "      <th>6</th>\n",
       "      <td>venkat</td>\n",
       "      <td>65</td>\n",
       "      <td>66</td>\n",
       "    </tr>\n",
       "    <tr>\n",
       "      <th>7</th>\n",
       "      <td>virat</td>\n",
       "      <td>35</td>\n",
       "      <td>30</td>\n",
       "    </tr>\n",
       "    <tr>\n",
       "      <th>8</th>\n",
       "      <td>arthur</td>\n",
       "      <td>66</td>\n",
       "      <td>68</td>\n",
       "    </tr>\n",
       "    <tr>\n",
       "      <th>9</th>\n",
       "      <td>paul</td>\n",
       "      <td>67</td>\n",
       "      <td>73</td>\n",
       "    </tr>\n",
       "  </tbody>\n",
       "</table>\n",
       "</div>"
      ],
      "text/plain": [
       "     name  maths  cs\n",
       "0   david     92  98\n",
       "1   laura     56  68\n",
       "2  sanjay     88  81\n",
       "3     wei     70  80\n",
       "4    jeff     80  83\n",
       "5   aamir     49  52\n",
       "6  venkat     65  66\n",
       "7   virat     35  30\n",
       "8  arthur     66  68\n",
       "9    paul     67  73"
      ]
     },
     "execution_count": 3,
     "metadata": {},
     "output_type": "execute_result"
    }
   ],
   "source": [
    "df = pd.read_csv('excercisee.csv')\n",
    "df"
   ]
  },
  {
   "cell_type": "code",
   "execution_count": 58,
   "metadata": {},
   "outputs": [],
   "source": [
    "%matplotlib inline\n",
    "def gradient_decent(x,y):\n",
    "    iteration = 15\n",
    "    m_current = b_current = 0\n",
    "    learning_rate = 0.1\n",
    "    n = len(x)\n",
    "    plt.scatter(x,y,color='red')\n",
    "    for i in range(iteration):\n",
    "        y_predicted = m_current * x + b_current\n",
    "        plt.plot(x,y_predicted,color='green')\n",
    "        cost = (1/n) * sum([values**2 for values in (y-y_predicted)])\n",
    "        mderivative = -(2/n) * sum(x*(y-y_predicted))\n",
    "        bderivative = -(2/n) * sum(y-y_predicted)\n",
    "        m_current = m_current - learning_rate * mderivative\n",
    "        b_current = b_current - learning_rate * bderivative\n",
    "        print(f\"m_current: {m_current}, b_current: {b_current}, cost: {cost}, iteration: {i}\")"
   ]
  },
  {
   "cell_type": "code",
   "execution_count": 59,
   "metadata": {},
   "outputs": [
    {
     "name": "stdout",
     "output_type": "stream",
     "text": [
      "m_current: 989.1800000000002, b_current: 13.980000000000002, cost: 5199.1, iteration: 0\n",
      "m_current: -934764.0368, b_current: -13190.280800000002, cost: 4624176649.337042, iteration: 1\n",
      "m_current: 884277037.336928, b_current: 12477909.287008, cost: 4138149214106179.5, iteration: 2\n",
      "m_current: -836515925792.161, b_current: -11803958877.411753, cost: 3.7032060698742374e+21, iteration: 3\n",
      "m_current: 791334463505817.5, b_current: 11166409601495.324, cost: 3.3139779370946647e+27, iteration: 4\n",
      "m_current: -7.485933188160774e+17, b_current: -1.0563295304756512e+16, cost: 2.965659906666545e+33, iteration: 5\n",
      "m_current: 7.081606865615178e+20, b_current: 9.992756103138988e+18, cost: 2.6539520929098406e+39, iteration: 6\n",
      "m_current: -6.699118805714214e+23, b_current: -9.453032567579368e+21, cost: 2.37500655271612e+45, iteration: 7\n",
      "m_current: 6.33728949159553e+26, b_current: 8.942460298380127e+24, cost: 2.1253797838000865e+51, iteration: 8\n",
      "m_current: -5.995003113846916e+29, b_current: -8.459464792532926e+27, cost: 1.9019902156564862e+57, iteration: 9\n",
      "m_current: 5.671204129572697e+32, b_current: 8.002556588265454e+30, cost: 1.7020801684605084e+63, iteration: 10\n",
      "m_current: -5.36489400731005e+35, b_current: -7.570326671838513e+33, cost: 1.5231818103052674e+69, iteration: 11\n",
      "m_current: 5.0751281477572034e+38, b_current: 7.161442132428758e+36, cost: 1.3630866925282916e+75, iteration: 12\n",
      "m_current: -4.801012970817656e+41, b_current: -6.774642051697681e+39, cost: 1.2198184870493866e+81, iteration: 13\n",
      "m_current: 4.541703159977447e+44, b_current: 6.408733615371032e+42, cost: 1.0916085891701797e+87, iteration: 14\n"
     ]
    },
    {
     "data": {
      "image/png": "[encoded data removed]",
      "text/plain": [
       "<Figure size 432x288 with 1 Axes>"
      ]
     },
     "metadata": {
      "needs_background": "light"
     },
     "output_type": "display_data"
    }
   ],
   "source": [
    "gradient_decent(df.maths,df.cs)"
   ]
  },
  {
   "cell_type": "code",
   "execution_count": null,
   "metadata": {},
   "outputs": [],
   "source": []
  }
 ],
 "metadata": {
  "interpreter": {
   "hash": "17cfeca820c8042f9be97a993a0edda6171e3484eefbce7fbf6b244297e5761f"
  },
  "kernelspec": {
   "display_name": "Python 3.10.4 64-bit",
   "language": "python",
   "name": "python3"
  },
  "language_info": {
   "codemirror_mode": {
    "name": "ipython",
    "version": 3
   },
   "file_extension": ".py",
   "mimetype": "text/x-python",
   "name": "python",
   "nbconvert_exporter": "python",
   "pygments_lexer": "ipython3",
   "version": "3.10.4"
  },
  "orig_nbformat": 4
 },
 "nbformat": 4,
 "nbformat_minor": 2
}
